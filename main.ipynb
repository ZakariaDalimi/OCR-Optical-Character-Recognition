{
 "cells": [
  {
   "cell_type": "code",
   "execution_count": null,
   "id": "63c99ff9",
   "metadata": {},
   "outputs": [
    {
     "name": "stdout",
     "output_type": "stream",
     "text": [
      "Computer vision is a rapidly advancing field of artificial intelligence that enables computers\n",
      "to process and understand visual information. By developing sophisticated algorithms and\n",
      "leveraging machine learning techniques, computer vision empowers machines to analyze\n",
      "images and videos, recognize objects, and make informed decisions based on visual data.\n",
      "This technology has a wide range of practical applications across various industries,\n",
      "including healthcare, robotics, surveillance, and augmented reality. As computer vision\n",
      "continues to evolve, it holds immense potential for revolutionizing how we interact with the\n",
      "\n",
      "digital world and enhancing the capabilities of numerous industries and sectors.\n",
      "\n"
     ]
    }
   ],
   "source": [
    "import cv2\n",
    "import pytesseract\n",
    "import pyttsx3\n",
    "\n",
    "text_speech = pyttsx3.init()\n",
    "\n",
    "pytesseract.pytesseract.tesseract_cmd = \"C:/Program Files/Tesseract-OCR/tesseract\"\n",
    "\n",
    "img = cv2.imread(\"Photos/Screenshot_20230714_040725.png\")\n",
    "extract_text = pytesseract.image_to_string(img)\n",
    "\n",
    "print(extract_text)\n",
    "cv2.imshow(\"image\", img)\n",
    "cv2.waitKey(0)\n",
    "\n",
    "text_speech.say(extract_text)\n",
    "text_speech.runAndWait()"
   ]
  },
  {
   "cell_type": "code",
   "execution_count": null,
   "id": "dc4c48c4",
   "metadata": {},
   "outputs": [],
   "source": []
  },
  {
   "cell_type": "code",
   "execution_count": null,
   "id": "9269669d",
   "metadata": {},
   "outputs": [],
   "source": [
    "import pyttsx3\n",
    "engine = pyttsx3.init()\n",
    "voice = engine.getProperty('voices')[1]\n",
    "engine.setProperty('voice', voice.id)\n",
    "\n",
    "engine.say(\"Vor langer Zeit lebte ein mutiger Abenteurer namens Jonas. Er hatte schon immer davon geträumt, die Welt zu erkunden und fremde Länder zu bereisen. Endlich beschloss er, seinen Traum wahr werden zu lassen und eine abenteuerliche Reise zu unternehmen.Jonas war ein vielversprechender junger Mann, der Sprachen leicht erlernte und sich gut auf neue Situationen einstellen konnte. Mit einem großen Rucksack und einer Landkarte in der Hand machte er sich auf den Weg zu seinem ersten Ziel - ein exotisches Land namens Eladia.Eladia war bekannt für seine atemberaubende Natur und die herzlichen Menschen. Jonas war begeistert von den farbenfrohen Märkten, den duftenden Gewürzen und der lebhaften Musik, die überall zu hören war. Er fühlte sofort eine starke Sympathie für dieses Land und seine Kultur.Während seiner Reise durch Eladia traf Jonas auf eine Familie, die ihn in ihr bescheidenes Zuhause einlud. Die Familie, bestehend aus einem alten Paar und ihren Enkeln, war äußerst gastfreundlich. Obwohl sie wenig Eigentum hatten, teilten sie bereitwillig ihre Mahlzeiten und Geschichten mit ihm. Die Erfahrung berührte Jonas tief, und er beschloss, ihnen für ihre Großzügigkeit zu danken, indem er ihnen half, ihr Haus zu verschönern und einige Reparaturen durchzuführen.Als er sich von der Familie verabschiedete, spürte Jonas ein leichtes schlechtes Gewissen, da er viel von ihnen empfangen hatte, aber nur wenig zurückgeben konnte. Doch er wusste, dass er das Geschenk ihrer Freundschaft und die Begegnung mit ihrer Kultur immer in seinem Herzen tragen würde.Jonas reiste weiter und erreichte schließlich die Berge von Andora. Dort traf er auf einen erfahrenen Bergsteiger namens Luis, der ihm anbot, ihn bei seiner Bergbesteigung zu begleiten. Jonas nahm das Angebot freudig an, und gemeinsam bezwangen sie die schwierigen ¬Gipfel. Oben angekommen, genoss Jonas den atemberaubenden Ausblick und fühlte eine tiefe Zufriedenheit über die Herausforderungen, die er gemeistert hatte.Während seiner Reise durch Andora lernte Jonas, wie man sich in der Wildnis zurechtfindet und sich selbst versorgt. Er erfuhr, dass Selbstvertrauen und Entschlossenheit essentiell sind, um seine Ziele zu erreichen. Die Begegnung mit Luis und die Natur Andoras hatten Jonas zu einem erfahreneren und weiseren Abenteurer gemacht.Nach vielen weiteren Abenteuern kehrte Jonas schließlich in seine Heimatstadt zurück. Er war verändert und erfüllt von den Erlebnissen seiner Reise. Seine Familie und Freunde staunten über die Geschichten, die er zu erzählen hatte, und bewunderten seinen Mut und seine Entschlossenheit.Jonas hatte auf seiner Reise viel gelernt - über verschiedene Kulturen, über Großzügigkeit und Gastfreundschaft, über Selbstvertrauen und den Wert des Entdeckens. Er wusste, dass er nun bereit war, weitere Ziele zu setzen und neue Abenteuer zu erleben. Denn die Welt war groß und voller Wunder, die nur darauf warteten, von einem abenteuerlustigen Geist wie ihm entdeckt zu werden.\") \n",
    "# engine.say(\"Good Morning\") \n",
    "\n",
    "engine.runAndWait()"
   ]
  },
  {
   "cell_type": "code",
   "execution_count": null,
   "id": "8c3cc70a",
   "metadata": {},
   "outputs": [],
   "source": []
  },
  {
   "cell_type": "code",
   "execution_count": null,
   "id": "6b411c09",
   "metadata": {},
   "outputs": [],
   "source": []
  },
  {
   "cell_type": "code",
   "execution_count": 6,
   "id": "1aa2830f",
   "metadata": {},
   "outputs": [
    {
     "name": "stdout",
     "output_type": "stream",
     "text": [
      "How to Implement Computer Vision in Education?\n",
      "\n",
      "Few things that you need to consider before implementing computer vision in education are:\n",
      "\n",
      "List priorities\n",
      "\n",
      "You must communicate your idea’s essential characteristics and specify the goal as well if you are speaking with\n",
      "the eLearning software development company. It will make it much simpler for the product team to develop a\n",
      "solution that completely satisfies your wants and specifications by fostering knowledge of your product and\n",
      "vision. Exist any similar products or services on the market? That is really better because you can demonstrate\n",
      "to your crew how unique your product is compared to that of your rivals. The better, the more specifics.\n",
      "\n",
      "Build MVP\n",
      "\n",
      "Aminimum viable product (MVP) is a product with just enough features to draw early users and confirm a\n",
      "product concept at the start of the product development cycle. For particular category, like software or mobile\n",
      "app development, it can be quite beneficial; MVP can undoubtedly assist your product team gathers customer\n",
      "input as rapidly as possible to repeat and enhance the product.\n",
      "\n",
      "Building an MVP can also reduce the time and resources you might need to invest in developing an unsuccessful\n",
      "product. Here are the straightforward steps to building an MVP:\n",
      "\n",
      "* Decide what you want to achieve or what issue you want to solve\n",
      "* Create the plan as necessary\n",
      "\n",
      "* Choose the features and technology\n",
      "\n",
      "* Begin the development, test it, and launch it\n",
      "\n"
     ]
    }
   ],
   "source": [
    "import cv2\n",
    "import pytesseract\n",
    "import pyttsx3\n",
    "\n",
    "text_speech = pyttsx3.init()\n",
    "\n",
    "pytesseract.pytesseract.tesseract_cmd = \"C:/Program Files/Tesseract-OCR/tesseract\"\n",
    "\n",
    "img = cv2.imread(\"Photos/Screenshot_20230717_124905.png\")\n",
    "extract_text = pytesseract.image_to_string(img)\n",
    "\n",
    "print(extract_text)\n",
    "# cv2.imshow(\"image\", img)\n",
    "# cv2.waitKey(0)\n",
    "\n"
   ]
  },
  {
   "cell_type": "code",
   "execution_count": null,
   "id": "481cee8b",
   "metadata": {},
   "outputs": [],
   "source": []
  }
 ],
 "metadata": {
  "kernelspec": {
   "display_name": "Python 3 (ipykernel)",
   "language": "python",
   "name": "python3"
  },
  "language_info": {
   "codemirror_mode": {
    "name": "ipython",
    "version": 3
   },
   "file_extension": ".py",
   "mimetype": "text/x-python",
   "name": "python",
   "nbconvert_exporter": "python",
   "pygments_lexer": "ipython3",
   "version": "3.9.13"
  }
 },
 "nbformat": 4,
 "nbformat_minor": 5
}
